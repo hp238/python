{
 "cells": [
  {
   "cell_type": "code",
   "execution_count": 1,
   "metadata": {},
   "outputs": [
    {
     "name": "stderr",
     "output_type": "stream",
     "text": [
      "/home/harison/miniconda3/lib/python3.6/importlib/_bootstrap.py:219: RuntimeWarning: numpy.dtype size changed, may indicate binary incompatibility. Expected 96, got 88\n",
      "  return f(*args, **kwds)\n",
      "/home/harison/miniconda3/lib/python3.6/importlib/_bootstrap.py:219: RuntimeWarning: numpy.dtype size changed, may indicate binary incompatibility. Expected 96, got 88\n",
      "  return f(*args, **kwds)\n"
     ]
    }
   ],
   "source": [
    "import kwikfile as kf\n",
    "import numpy as np\n",
    "import imp\n",
    "%matplotlib inline\n",
    "import matplotlib.pyplot as plt\n",
    "from klusta.kwik import KwikModel\n",
    "#from phy.io import KwikModel\n",
    "import matplotlib as mpl\n",
    "from pylab import *\n",
    "\n",
    "import ipywidgets as widgets\n",
    "from IPython.display import display\n",
    "import time\n",
    "\n",
    "class ColorMap:\n",
    "    \"\"\"!  @brief model that returns an average detection of each site of a given kwik file.\n",
    "    \n",
    "    @author: Harison P B de Oliveira\n",
    "    @date: 2018.May.23\n",
    "    \"\"\"\n",
    "    \n",
    "    def __init__(self,path=None):\n",
    "        if path is None:\n",
    "            print (\"It still with no path\")\n",
    "        else:\n",
    "            self.kwik_model=[]\n",
    "            self.kwikfile=[]\n",
    "            for i in range(0,6):\n",
    "                kpath = path+'/0'+str(i+1)+'/g0'+str(i+1)+'.kwik'\n",
    "                self.kwik_model.append(KwikModel(kpath));\n",
    "                self.kwikfile.append(kf.KwikFile(kpath))\n",
    "            #print(self.kwikfile[0])\n",
    "            #self.kwik_model=KwikModel(kpath)\n",
    "            #self.kwikfile=kf.KwikFile(kpath)\n",
    "            #self.kpath=kpath\n",
    "            #if name is None:\n",
    "            #    self.name=self.kwikfile.name\n",
    "            #else:\n",
    "            #    self.name=name\n",
    "            #print (\"Created class on = %s !\" % self.kpath)\n",
    "            \n",
    "    def get_median_amplitude_group(self):\n",
    "        \"\"\"!  @brief Returns the average amplitude of all sites of the non-noisy groups.\n",
    "    \n",
    "        @author: Harison P B de Oliveira\n",
    "        @date: 2018.Jun.07\n",
    "        \"\"\"\n",
    "        \n",
    "        a=np.zeros((6,10))\n",
    "        for shank in range(0,6):\n",
    "            spk_id=self.kwikfile[shank].all_spike_id_on_groups(group_names=\n",
    "                                                               self.kwikfile[shank].list_of_non_noisy_groups())\n",
    "            w=self.kwik_model[shank].all_waveforms\n",
    "            wf=w[spk_id]\n",
    "            #wf=w[spk_id[0:10000]]\n",
    "            \n",
    "            median_amplitudes=dict()\n",
    "            \n",
    "            print(\"Shank 0\"+str(shank+1)+\":\")\n",
    "            print(\"Loading the average amplitude for each site.\")\n",
    "            \n",
    "            amplitudes=[]\n",
    "            A=dict()\n",
    "            \n",
    "            progress = widgets.IntProgress(min=0, description='Loading channels:'\n",
    "                                       ,max=wf.shape[2])#add kwikfile\n",
    "            display(progress)\n",
    "            \n",
    "            for elect in range(0,wf.shape[2]):#add kwikfile\n",
    "                A[elect]=[]\n",
    "                for i in range(0,len(wf)):\n",
    "                    wave=wf[i,:,elect]\n",
    "                    A[elect].append(np.max(wave)-np.min(wave))\n",
    "                amplitudes.append(np.mean(A[elect]))\n",
    "                progress.value += 1\n",
    "            a[shank,:]=amplitudes\n",
    "            \"\"\"\n",
    "        a=np.zeros((6,10))\n",
    "        for i in range(0,6):\n",
    "            a[i,:]=amplitudes\n",
    "        \"\"\"\n",
    "        return a\n",
    "\n",
    "        \n",
    "    def plot_median_amplitude(self,amplitudes=None):\n",
    "        \"\"\"!  @brief Returns an image with maximum average amplitude of each site of a shank.\n",
    "    \n",
    "        @author: Harison P B de Oliveira\n",
    "        @date: 2018.Jun.07\n",
    "        \"\"\"\n",
    "        \n",
    "        if amplitudes is None:\n",
    "            return None\n",
    "        else:\n",
    "            fig,ax = plt.subplots(figsize=(60, 20))\n",
    "            num_channels=len(amplitudes)\n",
    "\n",
    "            posx=np.flipud (self.kwik_model[0].channel_positions [:,0])\n",
    "            posy=np.flipud (self.kwik_model[0].channel_positions [:,1])\n",
    "            #print(posx,posy)\n",
    "            \n",
    "            a=list()\n",
    "            \n",
    "            cmap = mpl.cm.jet\n",
    "            for shank in range(0,6):\n",
    "                norm = mpl.colors.Normalize(vmin=np.min(amplitudes[shank,:]), vmax=np.max(amplitudes[shank,:]))\n",
    "                cb1 = mpl.colorbar.ColorbarBase(ax, cmap=cmap,\n",
    "                                        norm=norm,\n",
    "                                        extend='both',\n",
    "                                        extendfrac='auto',\n",
    "                                        spacing='uniform',\n",
    "                                        orientation='vertical') \n",
    "                dx=10\n",
    "                offset=shank*200\n",
    "                for ch in range (0,10):\n",
    "                    if ch%2==0:\n",
    "                        x_offset=posx[ch]+dx+offset\n",
    "                    else:\n",
    "                        x_offset=posx[ch]-dx+offset\n",
    "                        dx+=10\n",
    "                    #x_offset = posx[ch]\n",
    "                    y_offset =posy[ch]*2\n",
    "                    circle = plt.Circle((x_offset,y_offset),10,color=cb1.to_rgba(amplitudes[shank,ch]))\n",
    "                    a.append(circle)\n",
    "            \n",
    "            ax.cla()\n",
    "            ax.set_xlim((min(posx)-dx-10, max(posx)+dx+1100))\n",
    "            ax.set_ylim((min(posy)*2-10, max(posy)*2+10))\n",
    "            for i in range(0,len(a)):\n",
    "                c=a[i]\n",
    "                ax.add_artist(c)\n",
    "            \n",
    "            data = np.clip(np.randn(0, 0), -1, 1)\n",
    "            cax = ax.imshow(data, interpolation='None', cmap=mpl.cm.jet)\n",
    "            cbar = fig.colorbar(cax,ticks=[0,0.5,1],orientation='vertical')\n",
    "            cbar.ax.set_yticklabels(['Low','Medium','High'])\n",
    "            plt.gca().invert_yaxis()\n",
    "            plt.axis('off')\n",
    "\n",
    "            plt.show()\n",
    "            \n",
    "            \n",
    "        "
   ]
  },
  {
   "cell_type": "code",
   "execution_count": 3,
   "metadata": {},
   "outputs": [
    {
     "ename": "OSError",
     "evalue": "File `/home/harison/UFPE/data/01/g01.kwik` doesn't exist.",
     "output_type": "error",
     "traceback": [
      "\u001b[0;31m---------------------------------------------------------------------------\u001b[0m",
      "\u001b[0;31mOSError\u001b[0m                                   Traceback (most recent call last)",
      "\u001b[0;32m<ipython-input-3-988732f581f2>\u001b[0m in \u001b[0;36m<module>\u001b[0;34m()\u001b[0m\n\u001b[1;32m      1\u001b[0m \u001b[0mpath\u001b[0m\u001b[0;34m=\u001b[0m\u001b[0;34m\"/home/harison/UFPE/data\"\u001b[0m\u001b[0;34m\u001b[0m\u001b[0m\n\u001b[0;32m----> 2\u001b[0;31m \u001b[0mcm\u001b[0m \u001b[0;34m=\u001b[0m \u001b[0mColorMap\u001b[0m\u001b[0;34m(\u001b[0m\u001b[0mpath\u001b[0m\u001b[0;34m=\u001b[0m\u001b[0mpath\u001b[0m\u001b[0;34m)\u001b[0m\u001b[0;34m\u001b[0m\u001b[0m\n\u001b[0m",
      "\u001b[0;32m<ipython-input-1-70e0537cc3fa>\u001b[0m in \u001b[0;36m__init__\u001b[0;34m(self, path)\u001b[0m\n\u001b[1;32m     28\u001b[0m             \u001b[0;32mfor\u001b[0m \u001b[0mi\u001b[0m \u001b[0;32min\u001b[0m \u001b[0mrange\u001b[0m\u001b[0;34m(\u001b[0m\u001b[0;36m0\u001b[0m\u001b[0;34m,\u001b[0m\u001b[0;36m6\u001b[0m\u001b[0;34m)\u001b[0m\u001b[0;34m:\u001b[0m\u001b[0;34m\u001b[0m\u001b[0m\n\u001b[1;32m     29\u001b[0m                 \u001b[0mkpath\u001b[0m \u001b[0;34m=\u001b[0m \u001b[0mpath\u001b[0m\u001b[0;34m+\u001b[0m\u001b[0;34m'/0'\u001b[0m\u001b[0;34m+\u001b[0m\u001b[0mstr\u001b[0m\u001b[0;34m(\u001b[0m\u001b[0mi\u001b[0m\u001b[0;34m+\u001b[0m\u001b[0;36m1\u001b[0m\u001b[0;34m)\u001b[0m\u001b[0;34m+\u001b[0m\u001b[0;34m'/g0'\u001b[0m\u001b[0;34m+\u001b[0m\u001b[0mstr\u001b[0m\u001b[0;34m(\u001b[0m\u001b[0mi\u001b[0m\u001b[0;34m+\u001b[0m\u001b[0;36m1\u001b[0m\u001b[0;34m)\u001b[0m\u001b[0;34m+\u001b[0m\u001b[0;34m'.kwik'\u001b[0m\u001b[0;34m\u001b[0m\u001b[0m\n\u001b[0;32m---> 30\u001b[0;31m                 \u001b[0mself\u001b[0m\u001b[0;34m.\u001b[0m\u001b[0mkwik_model\u001b[0m\u001b[0;34m.\u001b[0m\u001b[0mappend\u001b[0m\u001b[0;34m(\u001b[0m\u001b[0mKwikModel\u001b[0m\u001b[0;34m(\u001b[0m\u001b[0mkpath\u001b[0m\u001b[0;34m)\u001b[0m\u001b[0;34m)\u001b[0m\u001b[0;34m;\u001b[0m\u001b[0;34m\u001b[0m\u001b[0m\n\u001b[0m\u001b[1;32m     31\u001b[0m                 \u001b[0mself\u001b[0m\u001b[0;34m.\u001b[0m\u001b[0mkwikfile\u001b[0m\u001b[0;34m.\u001b[0m\u001b[0mappend\u001b[0m\u001b[0;34m(\u001b[0m\u001b[0mkf\u001b[0m\u001b[0;34m.\u001b[0m\u001b[0mKwikFile\u001b[0m\u001b[0;34m(\u001b[0m\u001b[0mkpath\u001b[0m\u001b[0;34m)\u001b[0m\u001b[0;34m)\u001b[0m\u001b[0;34m\u001b[0m\u001b[0m\n\u001b[1;32m     32\u001b[0m             \u001b[0;31m#print(self.kwikfile[0])\u001b[0m\u001b[0;34m\u001b[0m\u001b[0;34m\u001b[0m\u001b[0m\n",
      "\u001b[0;32m~/miniconda3/lib/python3.6/site-packages/klusta/kwik/model.py\u001b[0m in \u001b[0;36m__init__\u001b[0;34m(self, kwik_path, channel_group, clustering, waveform_filter)\u001b[0m\n\u001b[1;32m    591\u001b[0m         self.open(kwik_path,\n\u001b[1;32m    592\u001b[0m                   \u001b[0mchannel_group\u001b[0m\u001b[0;34m=\u001b[0m\u001b[0mchannel_group\u001b[0m\u001b[0;34m,\u001b[0m\u001b[0;34m\u001b[0m\u001b[0m\n\u001b[0;32m--> 593\u001b[0;31m                   clustering=clustering)\n\u001b[0m\u001b[1;32m    594\u001b[0m \u001b[0;34m\u001b[0m\u001b[0m\n\u001b[1;32m    595\u001b[0m     \u001b[0;34m@\u001b[0m\u001b[0mproperty\u001b[0m\u001b[0;34m\u001b[0m\u001b[0m\n",
      "\u001b[0;32m~/miniconda3/lib/python3.6/site-packages/klusta/kwik/model.py\u001b[0m in \u001b[0;36mopen\u001b[0;34m(self, kwik_path, channel_group, clustering)\u001b[0m\n\u001b[1;32m   1027\u001b[0m         \u001b[0mself\u001b[0m\u001b[0;34m.\u001b[0m\u001b[0m_kwik\u001b[0m \u001b[0;34m=\u001b[0m \u001b[0m_open_h5_if_exists\u001b[0m\u001b[0;34m(\u001b[0m\u001b[0mkwik_path\u001b[0m\u001b[0;34m,\u001b[0m \u001b[0;34m'kwik'\u001b[0m\u001b[0;34m)\u001b[0m\u001b[0;34m\u001b[0m\u001b[0m\n\u001b[1;32m   1028\u001b[0m         \u001b[0;32mif\u001b[0m \u001b[0mself\u001b[0m\u001b[0;34m.\u001b[0m\u001b[0m_kwik\u001b[0m \u001b[0;32mis\u001b[0m \u001b[0;32mNone\u001b[0m\u001b[0;34m:\u001b[0m\u001b[0;34m\u001b[0m\u001b[0m\n\u001b[0;32m-> 1029\u001b[0;31m             \u001b[0;32mraise\u001b[0m \u001b[0mIOError\u001b[0m\u001b[0;34m(\u001b[0m\u001b[0;34m\"File `{0}` doesn't exist.\"\u001b[0m\u001b[0;34m.\u001b[0m\u001b[0mformat\u001b[0m\u001b[0;34m(\u001b[0m\u001b[0mkwik_path\u001b[0m\u001b[0;34m)\u001b[0m\u001b[0;34m)\u001b[0m\u001b[0;34m\u001b[0m\u001b[0m\n\u001b[0m\u001b[1;32m   1030\u001b[0m         \u001b[0;32mif\u001b[0m \u001b[0;32mnot\u001b[0m \u001b[0mself\u001b[0m\u001b[0;34m.\u001b[0m\u001b[0m_kwik\u001b[0m\u001b[0;34m.\u001b[0m\u001b[0mis_open\u001b[0m\u001b[0;34m(\u001b[0m\u001b[0;34m)\u001b[0m\u001b[0;34m:\u001b[0m\u001b[0;34m\u001b[0m\u001b[0m\n\u001b[1;32m   1031\u001b[0m             \u001b[0;32mraise\u001b[0m \u001b[0mIOError\u001b[0m\u001b[0;34m(\u001b[0m\u001b[0;34m\"File `{0}` failed to open.\"\u001b[0m\u001b[0;34m.\u001b[0m\u001b[0mformat\u001b[0m\u001b[0;34m(\u001b[0m\u001b[0mkwik_path\u001b[0m\u001b[0;34m)\u001b[0m\u001b[0;34m)\u001b[0m\u001b[0;34m\u001b[0m\u001b[0m\n",
      "\u001b[0;31mOSError\u001b[0m: File `/home/harison/UFPE/data/01/g01.kwik` doesn't exist."
     ]
    }
   ],
   "source": [
    "path=\"/home/harison/UFPE/data\"\n",
    "cm = ColorMap(path=path)"
   ]
  },
  {
   "cell_type": "code",
   "execution_count": null,
   "metadata": {},
   "outputs": [],
   "source": [
    "import time\n",
    "start_time = time.time()\n",
    "\n",
    "a=cm.get_median_amplitude_group()\n",
    "\n",
    "elapsed_time = time.time() - start_time\n",
    "time.strftime(\"%M:%S\", time.gmtime(elapsed_time))"
   ]
  },
  {
   "cell_type": "code",
   "execution_count": null,
   "metadata": {},
   "outputs": [],
   "source": [
    "cm.plot_median_amplitude(amplitudes=a)"
   ]
  },
  {
   "cell_type": "code",
   "execution_count": null,
   "metadata": {},
   "outputs": [],
   "source": []
  },
  {
   "cell_type": "code",
   "execution_count": null,
   "metadata": {},
   "outputs": [],
   "source": []
  },
  {
   "cell_type": "code",
   "execution_count": null,
   "metadata": {},
   "outputs": [],
   "source": []
  },
  {
   "cell_type": "code",
   "execution_count": 2,
   "metadata": {},
   "outputs": [
    {
     "data": {
      "application/vnd.jupyter.widget-view+json": {
       "model_id": "bfd2d3dd613a4f37959886bd63a4e964",
       "version_major": 2,
       "version_minor": 0
      },
      "text/html": [
       "<p>Failed to display Jupyter Widget of type <code>Box</code>.</p>\n",
       "<p>\n",
       "  If you're reading this message in the Jupyter Notebook or JupyterLab Notebook, it may mean\n",
       "  that the widgets JavaScript is still loading. If this message persists, it\n",
       "  likely means that the widgets JavaScript library is either not installed or\n",
       "  not enabled. See the <a href=\"https://ipywidgets.readthedocs.io/en/stable/user_install.html\">Jupyter\n",
       "  Widgets Documentation</a> for setup instructions.\n",
       "</p>\n",
       "<p>\n",
       "  If you're reading this message in another frontend (for example, a static\n",
       "  rendering on GitHub or <a href=\"https://nbviewer.jupyter.org/\">NBViewer</a>),\n",
       "  it may mean that your frontend doesn't currently support widgets.\n",
       "</p>\n"
      ],
      "text/plain": [
       "Box(children=(Box(children=(Label(value='Path'), Text(value='/home/harison/UFPE/data/g01.kwik')), layout=Layout(display='flex', flex_flow='row', justify_content='center')), Box(children=(Label(value='Group name:'), Dropdown(options=('good', 'mua', 'noise'), value='good')), layout=Layout(display='flex', flex_flow='row', justify_content='center'))), layout=Layout(align_items='stretch', border='solid 2px', display='flex', flex_flow='column', width='50%'))"
      ]
     },
     "metadata": {},
     "output_type": "display_data"
    },
    {
     "data": {
      "application/vnd.jupyter.widget-view+json": {
       "model_id": "039cd09894b044849dd45ba716900017",
       "version_major": 2,
       "version_minor": 0
      },
      "text/html": [
       "<p>Failed to display Jupyter Widget of type <code>Button</code>.</p>\n",
       "<p>\n",
       "  If you're reading this message in the Jupyter Notebook or JupyterLab Notebook, it may mean\n",
       "  that the widgets JavaScript is still loading. If this message persists, it\n",
       "  likely means that the widgets JavaScript library is either not installed or\n",
       "  not enabled. See the <a href=\"https://ipywidgets.readthedocs.io/en/stable/user_install.html\">Jupyter\n",
       "  Widgets Documentation</a> for setup instructions.\n",
       "</p>\n",
       "<p>\n",
       "  If you're reading this message in another frontend (for example, a static\n",
       "  rendering on GitHub or <a href=\"https://nbviewer.jupyter.org/\">NBViewer</a>),\n",
       "  it may mean that your frontend doesn't currently support widgets.\n",
       "</p>\n"
      ],
      "text/plain": [
       "Button(description='Enviar informações!', style=ButtonStyle())"
      ]
     },
     "metadata": {},
     "output_type": "display_data"
    }
   ],
   "source": [
    "from ipywidgets import Layout, Button, Box, FloatText, Textarea, Dropdown, Label, IntSlider, Text\n",
    "import ipywidgets as widgets\n",
    "\n",
    "form_item_layout = Layout(\n",
    "    display='flex',\n",
    "    flex_flow='row',\n",
    "    justify_content='center'\n",
    ")\n",
    "\n",
    "data = [\n",
    "    Box([Label(value='Path'),\n",
    "            Text(\"/home/harison/UFPE/data/g01.kwik\")\n",
    "            ], layout=form_item_layout),\n",
    "    Box([Label(value='Group name:'),\n",
    "         Dropdown(options=['good', 'mua', 'noise'])],layout=form_item_layout)\n",
    "    \n",
    "]\n",
    "\n",
    "form = Box(data, layout=Layout(\n",
    "    display='flex',\n",
    "    flex_flow='column',\n",
    "    border='solid 2px',\n",
    "    align_items='stretch',\n",
    "    width='50%'\n",
    "))\n",
    "display(form)\n",
    "\n",
    "button = widgets.Button(description=\"Enviar informações!\")\n",
    "display(button)\n",
    "\n",
    "def on_button_clicked(b):\n",
    "    #kpath=form_items[0].children[0].value\n",
    "    kpath=data[0].children[1].value\n",
    "    group_name=data[1].children[1].value\n",
    "    hm = ColorMap(kpath)\n",
    "    ampl=hm.group_amplitude(group_name)\n",
    "    #hm.amplitudes_heat_map(ampl)\n",
    "    #group_name=\n",
    "    #print(\"%s: %s\" %(children[0].description,children[0].value))\n",
    "    \n",
    "    \n",
    "button.on_click(on_button_clicked)"
   ]
  },
  {
   "cell_type": "code",
   "execution_count": null,
   "metadata": {},
   "outputs": [],
   "source": []
  }
 ],
 "metadata": {
  "kernelspec": {
   "display_name": "Python 3",
   "language": "python",
   "name": "python3"
  },
  "language_info": {
   "codemirror_mode": {
    "name": "ipython",
    "version": 3
   },
   "file_extension": ".py",
   "mimetype": "text/x-python",
   "name": "python",
   "nbconvert_exporter": "python",
   "pygments_lexer": "ipython3",
   "version": "3.6.5"
  }
 },
 "nbformat": 4,
 "nbformat_minor": 2
}
