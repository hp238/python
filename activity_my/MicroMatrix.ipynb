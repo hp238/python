{
 "cells": [
  {
   "cell_type": "code",
   "execution_count": 1,
   "metadata": {},
   "outputs": [],
   "source": [
    "import numpy as np\n",
    "import warnings\n",
    "%matplotlib inline\n",
    "import matplotlib.pyplot as plt\n",
    "from matplotlib.pyplot import imshow\n",
    "import ipywidgets as widgets\n",
    "from IPython.display import display\n",
    "from matplotlib.animation import FuncAnimation\n",
    "import matplotlib as mpl\n",
    "from klusta.kwik import KwikModel\n",
    "from scipy import signal\n",
    "import os\n",
    "\n",
    "import sys\n",
    "sys.path.append('/home/harison/UFPE/IC/src/ipy/classes/') \n",
    "import kwikfile as kf\n",
    "\n",
    "import seaborn as sns\n",
    "\n",
    "\n",
    "\n",
    "class MicroMatrix:\n",
    "    \n",
    "    def __init__(self,V=None,Nx=70,Ny=200,kpath=None):\n",
    "        \"\"\"!  @brief Creates a MicroMatrix instance.\n",
    "        \n",
    "        Parameters:\n",
    "        V: Matrix 2D containing the potential distribution in the microspace for a microinstant.\n",
    "        Nx: Number of matrix columns.\n",
    "        Ny: Number of matrix rows.\n",
    "        kpath: Path to the '.kwik' file.\n",
    "        \n",
    "        Example: \n",
    "        mm=MicroMatrix(V=None,kpath=\"/some directory where there is kwikfile\")\n",
    "        Once you downloaded the examples from the phy project in the /tmp directory. You can to instanciate \n",
    "        a MicroMatrix object using this:\n",
    "        mm=MicroMatrix(V=None,kpath=\"/home/adm/data/2016Apr15/spk/manual/01/g01.kwik\")\n",
    "    \n",
    "        @author: Harison P B de Oliveira\n",
    "        @date: 2018.May.25        \n",
    "        \"\"\"\n",
    "        \n",
    "        if Nx<50 or Ny<190:\n",
    "            print(\"Dimensions of the matrix smaller than the electrode dimensions.\")\n",
    "            return\n",
    "        else:\n",
    "            self.Nx=Nx\n",
    "            self.Ny=Ny\n",
    "            self.kwik_model=None\n",
    "            self.kwikfile=None\n",
    "            self.kpath=None\n",
    "            if kpath is not None:\n",
    "                if os.path.exists(kpath) is True:\n",
    "                    self.kwik_model=KwikModel(kpath)\n",
    "                    self.kpath=kpath\n",
    "                    self.kwikfile=kf.KwikFile(kpath)\n",
    "                    self.geometry=np.matrix([np.flipud (self.kwik_model.channel_positions [:,0])\n",
    "                                             ,np.flipud (self.kwik_model.channel_positions [:,1]) ])\n",
    "                else:\n",
    "                    print('The file was not found in the directory informed.')\n",
    "                    return\n",
    "                if V is None:        \n",
    "                    self.V=np.zeros((Ny,Nx))\n",
    "                else:\n",
    "                    if V.shape[0]<50 and V.shape[1]<190:\n",
    "                        print(\"Dimensions of the matrix informed is smaller than the electrode dimensions.\")\n",
    "                        return\n",
    "                    else:\n",
    "                        if V.shape[0] is Nx and V.shape[1] is Ny:\n",
    "                            self.V=V\n",
    "                        else:\n",
    "                            self.V=zeros((Ny,Nx))\n",
    "                            warnings.warn('The dimensions of V were replaced by (Ny, Nx).', Warning)\n",
    "            else:\n",
    "                print(\"Enter a valid kpath.\")\n",
    "\n",
    "                \n",
    "                \n",
    "    def reset_matrix (self):\n",
    "        \"\"\"!  @brief Reset the matrix.\n",
    "            \n",
    "        @author: Harison P B de Oliveira\n",
    "        @date: 2018.May.25\n",
    "        \"\"\"\n",
    "        \n",
    "        self.V=np.zeros((self.Ny,self.Nx))\n",
    "        \n",
    "    def set_ini_conditions(self,potentials):\n",
    "        \"\"\"!  @brief Sets the potential matrix with initial conditions.\n",
    "    \n",
    "        Parameters:\n",
    "        Input: \n",
    "            - potentials: list of electric potentials across channels in a given time sample.\n",
    "        Output:\n",
    "            - <None>\n",
    "        \n",
    "        @author: Harison P B de Oliveira\n",
    "        @date: 2018.May.25\n",
    "        \"\"\"\n",
    "        \n",
    "        if potentials.shape[0]==10 and self.V is not None:\n",
    "            self.reset_matrix()\n",
    "            x_offset = (self.Nx-(np.max(self.geometry[0,:])-np.min(self.geometry[0,:])))/2\n",
    "            y_offset = (self.Ny-(np.max(self.geometry[1,:])-np.min(self.geometry[1,:])))/2    \n",
    "            for ch in range (0,self.geometry.shape[1]):\n",
    "                x_i=int(self.geometry[0,ch]-5+x_offset)\n",
    "                x_f=int(self.geometry[0,ch]+5+x_offset)\n",
    "                y_i=int(self.geometry[1,ch]-8+y_offset)\n",
    "                y_f=int(self.geometry[1,ch]+8+y_offset)\n",
    "                if x_i >=0 and y_i>=0:\n",
    "                    self.V[y_i:y_f,x_i:x_f]=potentials[ch]\n",
    "        else:\n",
    "            print('Number of potentials out of target.')\n",
    "            return\n",
    "    \n",
    "    \n",
    "    \n",
    "    def calc_matrix(self,maxIter=500,th=0.1):\n",
    "        \"\"\"!  @brief Returns an array for each of the 32 intervals showing the potential distribution of the \n",
    "        microspace.\n",
    "        \n",
    "        Parameters:\n",
    "        waves: Array containing the potential of each site.\n",
    "        maxIter: Maximum number of iterations.\n",
    "        \n",
    "        @author: Harison P B de Oliveira\n",
    "        @date: 2018.May.31\n",
    "        \"\"\"\n",
    "        \n",
    "        if self.V is None:\n",
    "            raise ValueError(\"Potential array is None.\")\n",
    "        if maxIter<0:\n",
    "            raise ValueError(\"The number of maximum iterations must be greater than zero.\")\n",
    "        \n",
    "        max_diff=sys.maxsize\n",
    "        count_inter=0\n",
    "        while max_diff>th and count_inter<maxIter:\n",
    "            for i in range(1,self.V.shape[0]-1):\n",
    "                for j in range(1,self.V.shape[1]-1):\n",
    "                    prev=self.V[i,j]\n",
    "                    self.V[i,j]=0.25 * (self.V[i+1][j] + self.V[i-1][j] \n",
    "                                                + self.V[i][j+1] + self.V[i][j-1])\n",
    "                    d=np.abs(prev-self.V[i,j])\n",
    "                    if (d>max_diff):\n",
    "                        max_diff=d\n",
    "            count_inter+=1\n",
    "    \n",
    "    \n",
    "    def save_to_numpy(self,filename,overwrite=False):\n",
    "            \"\"\"!  @brief Saves an '.npy' file containing the potential distribution in the microspace for \n",
    "            a microinstant.\n",
    "\n",
    "            parameters:\n",
    "\n",
    "            filename: name of the file where the MicroMatrix must be saved.\n",
    "\n",
    "            @author: Nivaldo A P de Vasconcelos\n",
    "            @date: 2018.Jun.28\n",
    "            \"\"\"\n",
    "            '''\n",
    "            Errors:\n",
    "                - input is a folder\n",
    "                - File already exists and overwrite is FALSE\n",
    "                - Does not have permission to write file\n",
    "            '''\n",
    "\n",
    "\n",
    "            if (os.path.isdir(filename)):\n",
    "                #self.error_msg=\"The input can not be a folder, but a file\"\n",
    "                raise ValueError(\"The input can not be a folder, but a file\")\n",
    "            # File already exists and overwrite is FALSE\n",
    "            if (os.path.exists(filename)) and not (overwrite):        \n",
    "                #self.error_msg=\"File alredy exists and can not be overwritten\"\n",
    "                raise ValueError(\"File alredy exists and can not be overwritten\")\n",
    "\n",
    "            # Does not have permission to write file\n",
    "            try:\n",
    "                file = open(filename, 'w')\n",
    "                file.close()\n",
    "            except IOError as e:\n",
    "                self.error_msg=\"Caught the I/O error\"\n",
    "                raise IOError(filename)\n",
    "            np.save(filename,self.V)\n",
    "    \n",
    "    def load_to_numpy(self,filename):\n",
    "        \"\"\"!  @brief Loads a '.npy' file containing the potential distribution in the microspace for \n",
    "        a microinstant.\n",
    "        \n",
    "        parameters:\n",
    "\n",
    "        filename: name of the file where the MicroMatrix must be saved.\n",
    "        \n",
    "        @author: Harison P B de Oliveira\n",
    "        @date: 2018.Jul.04\n",
    "        \"\"\"\n",
    "        '''\n",
    "        Errors:\n",
    "            - input is a folder\n",
    "            - File already exists and overwrite is FALSE\n",
    "            - Does not have permission to write file\n",
    "        '''\n",
    "        \n",
    "        if (os.path.isdir(filename)):\n",
    "            #self.error_msg=\"The input can not be a folder, but a file\"\n",
    "            raise ValueError(\"The input can not be a folder, but a file\")\n",
    "        # File does not exist\n",
    "        if (os.path.exists(filename)) is False:        \n",
    "            #self.error_msg=\"File does not exist.\"\n",
    "            raise ValueError(\"File does not exist.\")\n",
    "        # Does not have permission to read file\n",
    "        try:\n",
    "            file = open(filename, 'r')\n",
    "            file.close()\n",
    "        except IOError as e:\n",
    "            #self.error_msg=\"Caught the I/O error\"\n",
    "            raise ValueError(\"Caught the I/O error\")\n",
    "        self.V=np.load(filename)\n",
    "                        \n",
    "    def show_matrix(self,xlim=3,ylim=10):\n",
    "        \"\"\"!  @brief Shows graphically the matrix with the distribution of potentials.\n",
    "        \n",
    "        parameters:\n",
    "        xlim: Width of the output image.\n",
    "        ylim: Height of the output image.\n",
    "        \n",
    "        @author: Harison P B de Oliveira\n",
    "        @date: 2018.Jun.25\n",
    "        \"\"\"\n",
    "        \n",
    "        if self.V is None:\n",
    "            #self.error_msg='The matrix containing the potential distribution in the microspace for a microinstant is None.'\n",
    "            raise ValueError('The matrix containing the potential distribution in the microspace for a microinstant is None.')\n",
    "        if xlim<0 or ylim<0:\n",
    "            #self.error_msg='he dimensions of the image can not be less than zero.'\n",
    "            raise ValueError('He dimensions of the image can not be less than zero.')\n",
    "        plt.figure(figsize=(xlim,ylim))\n",
    "        ax=sns.heatmap(mm.V*-1,yticklabels=False,xticklabels=False,cmap='jet',cbar_kws={\"orientation\": \"vertical\"})\n",
    "    \n",
    "    ''' REMOVE '''         \n",
    "    def amplitudes_spike_id(self,group_name=None,spk_id=None):\n",
    "        \"\"\"!  @brief Returns the waveform of a list of spikes id.\n",
    "        \n",
    "        @author: Harison P B de Oliveira\n",
    "        @date: 2018.Jun.15\n",
    "        \"\"\"\n",
    "        \n",
    "        w=self.kwik_model.all_waveforms\n",
    "        if spk_id is None and group_name is not None:\n",
    "            spk_id=self.kwikfile.all_spike_id_on_groups(group_names=group_name)\n",
    "        elif spk_id is None and group_name is None:\n",
    "            raise ValueError(\"\\nReport a valid group_name.\\n\")\n",
    "        wf=w[spk_id]    \n",
    "        return wf\n",
    "    \n",
    "    \n",
    "    \n",
    "            \n",
    "        "
   ]
  },
  {
   "cell_type": "code",
   "execution_count": 2,
   "metadata": {},
   "outputs": [
    {
     "name": "stdout",
     "output_type": "stream",
     "text": [
      "Created class on = /home/harison/UFPE/data/g01.kwik !\n"
     ]
    }
   ],
   "source": [
    "kpath=\"/home/harison/UFPE/data/g01.kwik\"\n",
    "#kpath=\"/home/nvasconcelos/data/atropine/2018May09/01/g01.kwik\"\n",
    "mm=MicroMatrix(kpath=kpath)\n"
   ]
  },
  {
   "cell_type": "code",
   "execution_count": 3,
   "metadata": {},
   "outputs": [
    {
     "data": {
      "text/plain": [
       "(1, 32, 10)"
      ]
     },
     "execution_count": 3,
     "metadata": {},
     "output_type": "execute_result"
    }
   ],
   "source": [
    "w=mm.amplitudes_spike_id(group_name=\"good\",spk_id=6)\n",
    "w.shape"
   ]
  },
  {
   "cell_type": "code",
   "execution_count": 5,
   "metadata": {},
   "outputs": [
    {
     "data": {
      "text/plain": [
       "10"
      ]
     },
     "execution_count": 5,
     "metadata": {},
     "output_type": "execute_result"
    }
   ],
   "source": [
    "w.shape[2]"
   ]
  },
  {
   "cell_type": "code",
   "execution_count": null,
   "metadata": {},
   "outputs": [],
   "source": []
  },
  {
   "cell_type": "code",
   "execution_count": 7,
   "metadata": {},
   "outputs": [
    {
     "data": {
      "text/plain": [
       "(32, 10)"
      ]
     },
     "execution_count": 7,
     "metadata": {},
     "output_type": "execute_result"
    },
    {
     "data": {
      "image/png": "[encoded data removed]",
      "text/plain": [
       "<matplotlib.figure.Figure at 0x7fe67b8a98d0>"
      ]
     },
     "metadata": {},
     "output_type": "display_data"
    }
   ],
   "source": [
    "plt.plot (w[0,:,4],'.-')\n",
    "w[0,:,:].shape"
   ]
  },
  {
   "cell_type": "code",
   "execution_count": 12,
   "metadata": {},
   "outputs": [],
   "source": [
    "mm.set_ini_conditions(w[0,0,:])"
   ]
  },
  {
   "cell_type": "code",
   "execution_count": 13,
   "metadata": {},
   "outputs": [],
   "source": [
    "mm.calc_matrix(th=0.1)"
   ]
  },
  {
   "cell_type": "code",
   "execution_count": 14,
   "metadata": {},
   "outputs": [
    {
     "ename": "ValueError",
     "evalue": "He dimensions of the image can not be less than zero.",
     "output_type": "error",
     "traceback": [
      "\u001b[0;31m---------------------------------------------------------------------------\u001b[0m",
      "\u001b[0;31mValueError\u001b[0m                                Traceback (most recent call last)",
      "\u001b[0;32m<ipython-input-14-2af819d592c4>\u001b[0m in \u001b[0;36m<module>\u001b[0;34m()\u001b[0m\n\u001b[0;32m----> 1\u001b[0;31m \u001b[0mmm\u001b[0m\u001b[0;34m.\u001b[0m\u001b[0mshow_matrix\u001b[0m\u001b[0;34m(\u001b[0m\u001b[0mxlim\u001b[0m\u001b[0;34m=\u001b[0m\u001b[0;34m-\u001b[0m\u001b[0;36m1\u001b[0m\u001b[0;34m)\u001b[0m\u001b[0;34m\u001b[0m\u001b[0m\n\u001b[0m",
      "\u001b[0;32m<ipython-input-8-c3e4889a6109>\u001b[0m in \u001b[0;36mshow_matrix\u001b[0;34m(self, xlim, ylim)\u001b[0m\n\u001b[1;32m    236\u001b[0m         \u001b[0;32mif\u001b[0m \u001b[0mxlim\u001b[0m\u001b[0;34m<\u001b[0m\u001b[0;36m0\u001b[0m \u001b[0;32mor\u001b[0m \u001b[0mylim\u001b[0m\u001b[0;34m<\u001b[0m\u001b[0;36m0\u001b[0m\u001b[0;34m:\u001b[0m\u001b[0;34m\u001b[0m\u001b[0m\n\u001b[1;32m    237\u001b[0m             \u001b[0;31m#self.error_msg='he dimensions of the image can not be less than zero.'\u001b[0m\u001b[0;34m\u001b[0m\u001b[0;34m\u001b[0m\u001b[0m\n\u001b[0;32m--> 238\u001b[0;31m             \u001b[0;32mraise\u001b[0m \u001b[0mValueError\u001b[0m\u001b[0;34m(\u001b[0m\u001b[0;34m'He dimensions of the image can not be less than zero.'\u001b[0m\u001b[0;34m)\u001b[0m\u001b[0;34m\u001b[0m\u001b[0m\n\u001b[0m\u001b[1;32m    239\u001b[0m         \u001b[0mplt\u001b[0m\u001b[0;34m.\u001b[0m\u001b[0mfigure\u001b[0m\u001b[0;34m(\u001b[0m\u001b[0mfigsize\u001b[0m\u001b[0;34m=\u001b[0m\u001b[0;34m(\u001b[0m\u001b[0mxlim\u001b[0m\u001b[0;34m,\u001b[0m\u001b[0mylim\u001b[0m\u001b[0;34m)\u001b[0m\u001b[0;34m)\u001b[0m\u001b[0;34m\u001b[0m\u001b[0m\n\u001b[1;32m    240\u001b[0m         \u001b[0max\u001b[0m\u001b[0;34m=\u001b[0m\u001b[0msns\u001b[0m\u001b[0;34m.\u001b[0m\u001b[0mheatmap\u001b[0m\u001b[0;34m(\u001b[0m\u001b[0mmm\u001b[0m\u001b[0;34m.\u001b[0m\u001b[0mV\u001b[0m\u001b[0;34m*\u001b[0m\u001b[0;34m-\u001b[0m\u001b[0;36m1\u001b[0m\u001b[0;34m,\u001b[0m\u001b[0myticklabels\u001b[0m\u001b[0;34m=\u001b[0m\u001b[0;32mFalse\u001b[0m\u001b[0;34m,\u001b[0m\u001b[0mxticklabels\u001b[0m\u001b[0;34m=\u001b[0m\u001b[0;32mFalse\u001b[0m\u001b[0;34m,\u001b[0m\u001b[0mcmap\u001b[0m\u001b[0;34m=\u001b[0m\u001b[0;34m'jet'\u001b[0m\u001b[0;34m,\u001b[0m\u001b[0mcbar_kws\u001b[0m\u001b[0;34m=\u001b[0m\u001b[0;34m{\u001b[0m\u001b[0;34m\"orientation\"\u001b[0m\u001b[0;34m:\u001b[0m \u001b[0;34m\"vertical\"\u001b[0m\u001b[0;34m}\u001b[0m\u001b[0;34m)\u001b[0m\u001b[0;34m\u001b[0m\u001b[0m\n",
      "\u001b[0;31mValueError\u001b[0m: He dimensions of the image can not be less than zero."
     ]
    }
   ],
   "source": [
    "mm.show_matrix(xlim=-1)"
   ]
  },
  {
   "cell_type": "code",
   "execution_count": 14,
   "metadata": {},
   "outputs": [
    {
     "ename": "FileExistsError",
     "evalue": "matrix.npy",
     "output_type": "error",
     "traceback": [
      "\u001b[0;31m---------------------------------------------------------------------------\u001b[0m",
      "\u001b[0;31mFileExistsError\u001b[0m                           Traceback (most recent call last)",
      "\u001b[0;32m<ipython-input-14-3fbe9ddeec00>\u001b[0m in \u001b[0;36m<module>\u001b[0;34m()\u001b[0m\n\u001b[0;32m----> 1\u001b[0;31m \u001b[0mmm\u001b[0m\u001b[0;34m.\u001b[0m\u001b[0msave_to_numpy\u001b[0m\u001b[0;34m(\u001b[0m\u001b[0mfilename\u001b[0m\u001b[0;34m=\u001b[0m\u001b[0;34m'matrix.npy'\u001b[0m\u001b[0;34m)\u001b[0m\u001b[0;34m\u001b[0m\u001b[0m\n\u001b[0m",
      "\u001b[0;32m<ipython-input-7-3de8f782e5bd>\u001b[0m in \u001b[0;36msave_to_numpy\u001b[0;34m(self, filename, overwrite)\u001b[0m\n\u001b[1;32m    175\u001b[0m             \u001b[0;32mif\u001b[0m \u001b[0;34m(\u001b[0m\u001b[0mos\u001b[0m\u001b[0;34m.\u001b[0m\u001b[0mpath\u001b[0m\u001b[0;34m.\u001b[0m\u001b[0mexists\u001b[0m\u001b[0;34m(\u001b[0m\u001b[0mfilename\u001b[0m\u001b[0;34m)\u001b[0m\u001b[0;34m)\u001b[0m \u001b[0;32mand\u001b[0m \u001b[0;32mnot\u001b[0m \u001b[0;34m(\u001b[0m\u001b[0moverwrite\u001b[0m\u001b[0;34m)\u001b[0m\u001b[0;34m:\u001b[0m\u001b[0;34m\u001b[0m\u001b[0m\n\u001b[1;32m    176\u001b[0m                 \u001b[0mself\u001b[0m\u001b[0;34m.\u001b[0m\u001b[0merror_msg\u001b[0m\u001b[0;34m=\u001b[0m\u001b[0;34m\"File alredy exists and can not be overwritten\"\u001b[0m\u001b[0;34m\u001b[0m\u001b[0m\n\u001b[0;32m--> 177\u001b[0;31m                 \u001b[0;32mraise\u001b[0m \u001b[0mFileExistsError\u001b[0m\u001b[0;34m(\u001b[0m\u001b[0mfilename\u001b[0m\u001b[0;34m)\u001b[0m\u001b[0;34m\u001b[0m\u001b[0m\n\u001b[0m\u001b[1;32m    178\u001b[0m \u001b[0;34m\u001b[0m\u001b[0m\n\u001b[1;32m    179\u001b[0m             \u001b[0;31m# Does not have permission to write file\u001b[0m\u001b[0;34m\u001b[0m\u001b[0;34m\u001b[0m\u001b[0m\n",
      "\u001b[0;31mFileExistsError\u001b[0m: matrix.npy"
     ]
    }
   ],
   "source": [
    "mm.save_to_numpy(filename='matrix.npy')"
   ]
  },
  {
   "cell_type": "code",
   "execution_count": 25,
   "metadata": {},
   "outputs": [],
   "source": [
    "mm.load_to_numpy(filename='matrix.npy')"
   ]
  },
  {
   "cell_type": "code",
   "execution_count": null,
   "metadata": {},
   "outputs": [],
   "source": [
    "mm.show_matrix(xlim=-1)"
   ]
  },
  {
   "cell_type": "code",
   "execution_count": 16,
   "metadata": {
    "collapsed": true
   },
   "outputs": [],
   "source": [
    "group_name='good'\n",
    "spk_id=kwikfile.all_spike_id_on_groups(group_names=[group_name])\n",
    "wav=mm.amplitudes_spike_id(group_name=group_name,spk_id=spk_id[0])"
   ]
  },
  {
   "cell_type": "code",
   "execution_count": 38,
   "metadata": {},
   "outputs": [
    {
     "data": {
      "text/plain": [
       "(200, 70)"
      ]
     },
     "execution_count": 38,
     "metadata": {},
     "output_type": "execute_result"
    }
   ],
   "source": [
    "a=np.load('matrix_0.npy')\n",
    "a.shape"
   ]
  },
  {
   "cell_type": "code",
   "execution_count": null,
   "metadata": {},
   "outputs": [],
   "source": []
  }
 ],
 "metadata": {
  "kernelspec": {
   "display_name": "Python 3",
   "language": "python",
   "name": "python3"
  },
  "language_info": {
   "codemirror_mode": {
    "name": "ipython",
    "version": 3
   },
   "file_extension": ".py",
   "mimetype": "text/x-python",
   "name": "python",
   "nbconvert_exporter": "python",
   "pygments_lexer": "ipython3",
   "version": "3.6.5"
  }
 },
 "nbformat": 4,
 "nbformat_minor": 2
}
