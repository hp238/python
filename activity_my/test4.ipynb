{
 "cells": [
  {
   "cell_type": "code",
   "execution_count": 10,
   "metadata": {},
   "outputs": [],
   "source": [
    "import numpy as np\n",
    "import warnings\n",
    "%matplotlib inline\n",
    "import matplotlib.pyplot as plt\n",
    "from matplotlib.pyplot import imshow\n",
    "import ipywidgets as widgets\n",
    "from IPython.display import display\n",
    "from matplotlib.animation import FuncAnimation\n",
    "import matplotlib as mpl\n",
    "#import kwikfile as kf\n",
    "from klusta.kwik import KwikModel\n",
    "\n",
    "import sys \n",
    "sys.path.append('/home/harison/UFPE/IC/src/ipy/classes/') \n",
    "import kwikfile as kf\n",
    "\n",
    "#import sys\n",
    "#sys.path.insert(0, '/home/harison/UFPE/IC/src/ipy/classes/')\n",
    "\n",
    "#import kwikfile as kf"
   ]
  },
  {
   "cell_type": "code",
   "execution_count": 11,
   "metadata": {},
   "outputs": [
    {
     "name": "stdout",
     "output_type": "stream",
     "text": [
      "Created class on = /home/harison/UFPE/data/g01.kwik !\n"
     ]
    }
   ],
   "source": [
    "kpath=\"/home/harison/UFPE/data/g01.kwik\"\n",
    "kwik_model=KwikModel(kpath)\n",
    "kwikfile=kf.KwikFile(kpath)"
   ]
  },
  {
   "cell_type": "code",
   "execution_count": 12,
   "metadata": {},
   "outputs": [],
   "source": [
    "#spk_id=kwikfile.all_spikes_on_groups(group_names=kwikfile.list_of_non_noisy_groups())\n",
    "#spk_id=kwikfile.all_spike_id_on_groups(group_names=kwikfile.list_of_non_noisy_groups())\n",
    "spk_id=kwikfile.all_spike_id_on_cluster(cluster_id=6)"
   ]
  },
  {
   "cell_type": "code",
   "execution_count": 13,
   "metadata": {},
   "outputs": [],
   "source": [
    "#spk_id=kf.spikes_on_cluster(cluster_id=6)\n",
    "w=kwik_model.all_waveforms\n",
    "wf=w[spk_id]"
   ]
  },
  {
   "cell_type": "code",
   "execution_count": 1,
   "metadata": {},
   "outputs": [],
   "source": [
    "from tkinter import *\n",
    "\n",
    "class CellArray():\n",
    "    def __init__(self, root):\n",
    "        self.board = [[0, 0, 0, 0, 0,]\n",
    "                 [0, 0, 0, 0, 0,],\n",
    "                 [0, 0, 0, 0, 0,],\n",
    "                 [0, 0, 0, 0, 0,],\n",
    "                 [0, 0, 0, 0, 0,],\n",
    "                 [0, 0, 0, 0, 0,],]\n",
    "\n",
    "class CellCanvas(Frame):\n",
    "    def __init__(self, root):\n",
    "        Frame.__init__(self, root)\n",
    "        self.initBoard()\n",
    "\n",
    "    def initBoard(self):\n",
    "        self.display = Canvas(root, width=500, height=500, borderwidth=5, background='white')\n",
    "        self.display.grid()\n",
    "\n",
    "root = Tk()\n",
    "board = CellCanvas(root)\n",
    "root.mainloop()"
   ]
  },
  {
   "cell_type": "code",
   "execution_count": 5,
   "metadata": {},
   "outputs": [],
   "source": [
    "import time\n",
    "from tkinter import*\n",
    "animation =Tk()\n",
    "\n",
    "canvas = Canvas(animation,width=800,height=600)\n",
    "canvas.pack()\n",
    "canvas.create_polygon(10,10,10,30, 30, 30, 60, 40)\n",
    "for x in range (0,100):\n",
    "    canvas.move(1,5,0)\n",
    "    animation.update()\n",
    "    time.sleep(0.05)\n"
   ]
  },
  {
   "cell_type": "code",
   "execution_count": 18,
   "metadata": {},
   "outputs": [
    {
     "data": {
      "image/png": "[encoded data removed]",
      "text/plain": [
       "<matplotlib.figure.Figure at 0x7fcac9e59ef0>"
      ]
     },
     "metadata": {},
     "output_type": "display_data"
    }
   ],
   "source": [
    "# All scripts on TomRoelandts.com assume Python 3.\n",
    " \n",
    "import numpy as np\n",
    "import matplotlib.pyplot as plt\n",
    "import matplotlib.animation as anim\n",
    " \n",
    "class AnimatedGif:\n",
    "    def __init__(self, size=(640, 480)):\n",
    "        self.fig = plt.figure()\n",
    "        self.fig.set_size_inches(size[0] / 100, size[1] / 100)\n",
    "        ax = self.fig.add_axes([0, 0, 1, 1], frameon=False, aspect=1)\n",
    "        ax.set_xticks([])\n",
    "        ax.set_yticks([])\n",
    "        self.images = []\n",
    " \n",
    "    def add(self, image, label=''):\n",
    "        plt_im = plt.imshow(image, cmap='Greys', vmin=0, vmax=1, animated=True)\n",
    "        plt_txt = plt.text(10, 310, label, color='red')\n",
    "        self.images.append([plt_im, plt_txt])\n",
    " \n",
    "    def save(self, filename):\n",
    "        animation = anim.ArtistAnimation(self.fig, self.images)\n",
    "        animation.save(filename, writer='imagemagick', fps=1)\n",
    " \n",
    "m = 480\n",
    "n = 320\n",
    "x = np.linspace(-2, 1, num=m).reshape((1, m))\n",
    "y = np.linspace(-1, 1, num=n).reshape((n, 1))\n",
    "C = np.tile(x, (n, 1)) + 1j * np.tile(y, (1, m))\n",
    "Z = np.zeros((n, m), dtype=complex)\n",
    "M = np.full((n, m), True, dtype=bool)\n",
    " \n",
    "animated_gif = AnimatedGif(size=(m, n))\n",
    "animated_gif.add(M, label='0')\n",
    "images = []\n",
    "for i in range(1, 151):\n",
    "    Z[M] = Z[M] * Z[M] + C[M]\n",
    "    M[np.abs(Z) > 2] = False\n",
    "    if i <= 15 or not (i % 10):\n",
    "        animated_gif.add(M, label=str(i))\n",
    " \n",
    "animated_gif.save('mandelbrot-animated.gif')"
   ]
  },
  {
   "cell_type": "code",
   "execution_count": 3,
   "metadata": {},
   "outputs": [
    {
     "data": {
      "image/png": "[encoded data removed]",
      "text/plain": [
       "<matplotlib.figure.Figure at 0x7f63271dbfd0>"
      ]
     },
     "metadata": {},
     "output_type": "display_data"
    }
   ],
   "source": [
    "# All scripts on TomRoelandts.com assume Python 3.\n",
    " \n",
    "import numpy as np\n",
    "import matplotlib.pyplot as plt\n",
    "import matplotlib.animation as anim\n",
    " \n",
    "class AnimatedGif:\n",
    "    def __init__(self, size=(640, 480)):\n",
    "        self.fig = plt.figure()\n",
    "        self.fig.set_size_inches(size[0] / 100, size[1] / 100)\n",
    "        ax = self.fig.add_axes([0, 0, 1, 1], frameon=False, aspect=1)\n",
    "        ax.set_xticks([])\n",
    "        ax.set_yticks([])\n",
    "        self.images = []\n",
    " \n",
    "    def add(self, image, label=''):\n",
    "        plt_im = plt.imshow(image)#,animated=True)\n",
    "        #plt_im=plt_im=plt.contourf(np.negative(image))\n",
    "        plt_txt = plt.text(10, 310, label, color='red')\n",
    "        self.images.append([plt_im, plt_txt])\n",
    " \n",
    "    def save(self, filename):\n",
    "        animation = anim.ArtistAnimation(self.fig, self.images)\n",
    "        animation.save(filename, writer='imagemagick', fps=2)\n",
    " \n",
    "\n",
    "m = 480\n",
    "n = 320\n",
    "animated_gif = AnimatedGif(size=(m, n))\n",
    "#animated_gif.add(M, label='0')\n",
    "images = []\n",
    "\n",
    "c=np.load(\"waves.npy\")\n",
    "for i in range(0,32):\n",
    "    #E=c[:,:,i]\n",
    "    animated_gif.add(c[:,:,i], label=str(i))\n",
    "    #plt.\n",
    " \n",
    "animated_gif.save('mandelbrot-animated.gif')"
   ]
  },
  {
   "cell_type": "code",
   "execution_count": 1,
   "metadata": {},
   "outputs": [],
   "source": [
    "\n",
    "import numpy as np\n",
    "import matplotlib.pyplot as plt\n",
    "import matplotlib.animation as anim\n",
    "c=np.load(\"waves.npy\")\n",
    "\n",
    " \n",
    "class AnimatedGif:\n",
    "    def __init__(self, size=(640, 480)):\n",
    "        self.fig = plt.figure()\n",
    "        #self.fig.set_size_inches(size[0] / 100, size[1] / 100)\n",
    "        #ax = self.fig.add_axes([0, 0, 1, 1], frameon=False, aspect=1)\n",
    "        #ax.set_xticks([])\n",
    "        #ax.set_yticks([])\n",
    "        self.images = []\n",
    " \n",
    "    def add(self, image, label=''):\n",
    "        #plt_im = plt.imshow(image, cmap='Greys', vmin=0, vmax=1, animated=True)\n",
    "        plt_im=plt.contourf(np.negative(image))\n",
    "        plt.axes().set_aspect('equal')\n",
    "        #plt_txt = plt.text(10, 310, label, color='red')\n",
    "        self.images.append([plt_im])\n",
    " \n",
    "    def save(self, filename):\n",
    "        animation = anim.ArtistAnimation(self.fig, self.images)\n",
    "        animation.save(filename=filename, writer='imagemagick', fps=1)"
   ]
  },
  {
   "cell_type": "code",
   "execution_count": 2,
   "metadata": {},
   "outputs": [
    {
     "data": {
      "text/plain": [
       "(200, 70, 32)"
      ]
     },
     "execution_count": 2,
     "metadata": {},
     "output_type": "execute_result"
    }
   ],
   "source": [
    "c.shape"
   ]
  },
  {
   "cell_type": "code",
   "execution_count": 3,
   "metadata": {},
   "outputs": [
    {
     "data": {
      "text/plain": [
       "(200, 70)"
      ]
     },
     "execution_count": 3,
     "metadata": {},
     "output_type": "execute_result"
    }
   ],
   "source": [
    "a=c[:,:,0]\n",
    "a.shape"
   ]
  },
  {
   "cell_type": "code",
   "execution_count": 4,
   "metadata": {},
   "outputs": [
    {
     "ename": "AttributeError",
     "evalue": "'QuadContourSet' object has no attribute 'set_visible'",
     "output_type": "error",
     "traceback": [
      "\u001b[0;31m---------------------------------------------------------------------------\u001b[0m",
      "\u001b[0;31mAttributeError\u001b[0m                            Traceback (most recent call last)",
      "\u001b[0;32m<ipython-input-4-a76e24a8ea35>\u001b[0m in \u001b[0;36m<module>\u001b[0;34m()\u001b[0m\n\u001b[1;32m      7\u001b[0m     \u001b[0;31m#plt.plot(c[:,:,i])\u001b[0m\u001b[0;34m\u001b[0m\u001b[0;34m\u001b[0m\u001b[0m\n\u001b[1;32m      8\u001b[0m     \u001b[0;31m#plt.show()\u001b[0m\u001b[0;34m\u001b[0m\u001b[0;34m\u001b[0m\u001b[0m\n\u001b[0;32m----> 9\u001b[0;31m \u001b[0manimated_gif\u001b[0m\u001b[0;34m.\u001b[0m\u001b[0msave\u001b[0m\u001b[0;34m(\u001b[0m\u001b[0;34m'mandelbrot-animated.gif'\u001b[0m\u001b[0;34m)\u001b[0m\u001b[0;34m\u001b[0m\u001b[0m\n\u001b[0m",
      "\u001b[0;32m<ipython-input-1-2435a7d52bd5>\u001b[0m in \u001b[0;36msave\u001b[0;34m(self, filename)\u001b[0m\n\u001b[1;32m     24\u001b[0m     \u001b[0;32mdef\u001b[0m \u001b[0msave\u001b[0m\u001b[0;34m(\u001b[0m\u001b[0mself\u001b[0m\u001b[0;34m,\u001b[0m \u001b[0mfilename\u001b[0m\u001b[0;34m)\u001b[0m\u001b[0;34m:\u001b[0m\u001b[0;34m\u001b[0m\u001b[0m\n\u001b[1;32m     25\u001b[0m         \u001b[0manimation\u001b[0m \u001b[0;34m=\u001b[0m \u001b[0manim\u001b[0m\u001b[0;34m.\u001b[0m\u001b[0mArtistAnimation\u001b[0m\u001b[0;34m(\u001b[0m\u001b[0mself\u001b[0m\u001b[0;34m.\u001b[0m\u001b[0mfig\u001b[0m\u001b[0;34m,\u001b[0m \u001b[0mself\u001b[0m\u001b[0;34m.\u001b[0m\u001b[0mimages\u001b[0m\u001b[0;34m)\u001b[0m\u001b[0;34m\u001b[0m\u001b[0m\n\u001b[0;32m---> 26\u001b[0;31m         \u001b[0manimation\u001b[0m\u001b[0;34m.\u001b[0m\u001b[0msave\u001b[0m\u001b[0;34m(\u001b[0m\u001b[0mfilename\u001b[0m\u001b[0;34m=\u001b[0m\u001b[0mfilename\u001b[0m\u001b[0;34m,\u001b[0m \u001b[0mwriter\u001b[0m\u001b[0;34m=\u001b[0m\u001b[0;34m'imagemagick'\u001b[0m\u001b[0;34m,\u001b[0m \u001b[0mfps\u001b[0m\u001b[0;34m=\u001b[0m\u001b[0;36m1\u001b[0m\u001b[0;34m)\u001b[0m\u001b[0;34m\u001b[0m\u001b[0m\n\u001b[0m",
      "\u001b[0;32m~/miniconda3/envs/phy/lib/python3.5/site-packages/matplotlib/animation.py\u001b[0m in \u001b[0;36msave\u001b[0;34m(self, filename, writer, fps, dpi, codec, bitrate, extra_args, metadata, extra_anim, savefig_kwargs)\u001b[0m\n\u001b[1;32m    802\u001b[0m             \u001b[0;32mfor\u001b[0m \u001b[0manim\u001b[0m \u001b[0;32min\u001b[0m \u001b[0mall_anim\u001b[0m\u001b[0;34m:\u001b[0m\u001b[0;34m\u001b[0m\u001b[0m\n\u001b[1;32m    803\u001b[0m                 \u001b[0;31m# Clear the initial frame\u001b[0m\u001b[0;34m\u001b[0m\u001b[0;34m\u001b[0m\u001b[0m\n\u001b[0;32m--> 804\u001b[0;31m                 \u001b[0manim\u001b[0m\u001b[0;34m.\u001b[0m\u001b[0m_init_draw\u001b[0m\u001b[0;34m(\u001b[0m\u001b[0;34m)\u001b[0m\u001b[0;34m\u001b[0m\u001b[0m\n\u001b[0m\u001b[1;32m    805\u001b[0m             for data in zip(*[a.new_saved_frame_seq()\n\u001b[1;32m    806\u001b[0m                               for a in all_anim]):\n",
      "\u001b[0;32m~/miniconda3/envs/phy/lib/python3.5/site-packages/matplotlib/animation.py\u001b[0m in \u001b[0;36m_init_draw\u001b[0;34m(self)\u001b[0m\n\u001b[1;32m   1071\u001b[0m         \u001b[0;32mfor\u001b[0m \u001b[0mf\u001b[0m \u001b[0;32min\u001b[0m \u001b[0mself\u001b[0m\u001b[0;34m.\u001b[0m\u001b[0mnew_frame_seq\u001b[0m\u001b[0;34m(\u001b[0m\u001b[0;34m)\u001b[0m\u001b[0;34m:\u001b[0m\u001b[0;34m\u001b[0m\u001b[0m\n\u001b[1;32m   1072\u001b[0m             \u001b[0;32mfor\u001b[0m \u001b[0martist\u001b[0m \u001b[0;32min\u001b[0m \u001b[0mf\u001b[0m\u001b[0;34m:\u001b[0m\u001b[0;34m\u001b[0m\u001b[0m\n\u001b[0;32m-> 1073\u001b[0;31m                 \u001b[0martist\u001b[0m\u001b[0;34m.\u001b[0m\u001b[0mset_visible\u001b[0m\u001b[0;34m(\u001b[0m\u001b[0;32mFalse\u001b[0m\u001b[0;34m)\u001b[0m\u001b[0;34m\u001b[0m\u001b[0m\n\u001b[0m\u001b[1;32m   1074\u001b[0m                 \u001b[0martist\u001b[0m\u001b[0;34m.\u001b[0m\u001b[0mset_animated\u001b[0m\u001b[0;34m(\u001b[0m\u001b[0mself\u001b[0m\u001b[0;34m.\u001b[0m\u001b[0m_blit\u001b[0m\u001b[0;34m)\u001b[0m\u001b[0;34m\u001b[0m\u001b[0m\n\u001b[1;32m   1075\u001b[0m                 \u001b[0;31m# Assemble a list of unique axes that need flushing\u001b[0m\u001b[0;34m\u001b[0m\u001b[0;34m\u001b[0m\u001b[0m\n",
      "\u001b[0;31mAttributeError\u001b[0m: 'QuadContourSet' object has no attribute 'set_visible'"
     ]
    },
    {
     "data": {
      "image/png": "[encoded data removed]",
      "text/plain": [
       "<matplotlib.figure.Figure at 0x7f45cc5d69b0>"
      ]
     },
     "metadata": {},
     "output_type": "display_data"
    }
   ],
   "source": [
    "m = 480\n",
    "n = 320\n",
    "animated_gif = AnimatedGif(size=(m, n))\n",
    "images = []\n",
    "for i in range(0,32):\n",
    "    animated_gif.add(c[:,:,0])\n",
    "    #plt.plot(c[:,:,i])\n",
    "    #plt.show()\n",
    "animated_gif.save('mandelbrot-animated.gif')"
   ]
  },
  {
   "cell_type": "code",
   "execution_count": null,
   "metadata": {},
   "outputs": [],
   "source": [
    "animated_gif.save('a.gif')"
   ]
  },
  {
   "cell_type": "code",
   "execution_count": 25,
   "metadata": {},
   "outputs": [
    {
     "name": "stdout",
     "output_type": "stream",
     "text": [
      "Help on function save in module matplotlib.animation:\n",
      "\n",
      "save(self, filename, writer=None, fps=None, dpi=None, codec=None, bitrate=None, extra_args=None, metadata=None, extra_anim=None, savefig_kwargs=None)\n",
      "    Saves a movie file by drawing every frame.\n",
      "    \n",
      "    *filename* is the output filename, e.g., :file:`mymovie.mp4`\n",
      "    \n",
      "    *writer* is either an instance of :class:`MovieWriter` or a string\n",
      "    key that identifies a class to use, such as 'ffmpeg' or 'mencoder'.\n",
      "    If nothing is passed, the value of the rcparam `animation.writer` is\n",
      "    used.\n",
      "    \n",
      "    *fps* is the frames per second in the movie. Defaults to None,\n",
      "    which will use the animation's specified interval to set the frames\n",
      "    per second.\n",
      "    \n",
      "    *dpi* controls the dots per inch for the movie frames. This combined\n",
      "    with the figure's size in inches controls the size of the movie.\n",
      "    \n",
      "    *codec* is the video codec to be used. Not all codecs are supported\n",
      "    by a given :class:`MovieWriter`. If none is given, this defaults to the\n",
      "    value specified by the rcparam `animation.codec`.\n",
      "    \n",
      "    *bitrate* specifies the amount of bits used per second in the\n",
      "    compressed movie, in kilobits per second. A higher number means a\n",
      "    higher quality movie, but at the cost of increased file size. If no\n",
      "    value is given, this defaults to the value given by the rcparam\n",
      "    `animation.bitrate`.\n",
      "    \n",
      "    *extra_args* is a list of extra string arguments to be passed to the\n",
      "    underlying movie utiltiy. The default is None, which passes the\n",
      "    additional argurments in the 'animation.extra_args' rcParam.\n",
      "    \n",
      "    *metadata* is a dictionary of keys and values for metadata to include\n",
      "    in the output file. Some keys that may be of use include:\n",
      "    title, artist, genre, subject, copyright, srcform, comment.\n",
      "    \n",
      "    *extra_anim* is a list of additional `Animation` objects that should\n",
      "    be included in the saved movie file. These need to be from the same\n",
      "    `matplotlib.Figure` instance. Also, animation frames will just be\n",
      "    simply combined, so there should be a 1:1 correspondence between\n",
      "    the frames from the different animations.\n",
      "    \n",
      "    *savefig_kwargs* is a dictionary containing keyword arguments to be\n",
      "    passed on to the 'savefig' command which is called repeatedly to save\n",
      "    the individual frames. This can be used to set tight bounding boxes,\n",
      "    for example.\n",
      "\n"
     ]
    }
   ],
   "source": [
    "help (anim.ArtistAnimation.save)\n",
    "\n",
    "save(self, filename, writer=None, fps=None, dpi=None, codec=None, bitrate=None, extra_args=None, metadata=None, extra_anim=None, savefig_kwargs=None)"
   ]
  },
  {
   "cell_type": "code",
   "execution_count": 7,
   "metadata": {},
   "outputs": [],
   "source": [
    "import numpy as np\n",
    "a=np.ones((200,70,32))\n",
    "np.save('off.npy', a) \n",
    "#a = np.loadtxt('test.out')"
   ]
  },
  {
   "cell_type": "code",
   "execution_count": 1,
   "metadata": {},
   "outputs": [
    {
     "ename": "ModuleNotFoundError",
     "evalue": "No module named 'Figtodat'",
     "output_type": "error",
     "traceback": [
      "\u001b[0;31m---------------------------------------------------------------------------\u001b[0m",
      "\u001b[0;31mModuleNotFoundError\u001b[0m                       Traceback (most recent call last)",
      "\u001b[0;32m<ipython-input-1-a70a217383b8>\u001b[0m in \u001b[0;36m<module>\u001b[0;34m()\u001b[0m\n\u001b[1;32m      3\u001b[0m \u001b[0;34m@\u001b[0m\u001b[0mauthor\u001b[0m\u001b[0;34m:\u001b[0m \u001b[0mSukhbinder\u001b[0m \u001b[0mSingh\u001b[0m\u001b[0;34m\u001b[0m\u001b[0m\n\u001b[1;32m      4\u001b[0m \"\"\"\n\u001b[0;32m----> 5\u001b[0;31m \u001b[0;32mimport\u001b[0m \u001b[0mFigtodat\u001b[0m\u001b[0;34m\u001b[0m\u001b[0m\n\u001b[0m\u001b[1;32m      6\u001b[0m \u001b[0;32mfrom\u001b[0m \u001b[0mimages2gif\u001b[0m \u001b[0;32mimport\u001b[0m \u001b[0mwriteGif\u001b[0m\u001b[0;34m\u001b[0m\u001b[0m\n\u001b[1;32m      7\u001b[0m \u001b[0;32mimport\u001b[0m \u001b[0mmatplotlib\u001b[0m\u001b[0;34m.\u001b[0m\u001b[0mpyplot\u001b[0m \u001b[0;32mas\u001b[0m \u001b[0mplt\u001b[0m\u001b[0;34m\u001b[0m\u001b[0m\n",
      "\u001b[0;31mModuleNotFoundError\u001b[0m: No module named 'Figtodat'"
     ]
    }
   ],
   "source": [
    "# -*- coding: utf-8 -*-\n",
    "\"\"\"\n",
    "@author: Sukhbinder Singh\n",
    "\"\"\"\n",
    "import Figtodat\n",
    "from images2gif import writeGif\n",
    "import matplotlib.pyplot as plt\n",
    "import numpy\n",
    "     \n",
    "figure = plt.figure()\n",
    "plot   = figure.add_subplot (111)\n",
    "     \n",
    "plot.hold(False)\n",
    "    # draw a cardinal sine plot\n",
    "images=[]\n",
    "y = numpy.random.randn(100,5)\n",
    "for i in range(y.shape[1]):\n",
    "    plot.plot (numpy.sin(y[:,i]))  \n",
    "    plot.set_ylim(-3.0,3)\n",
    "    plot.text(90,-2.5,str(i))\n",
    "    im = Figtodat.fig2img(figure)\n",
    "    images.append(im)\n",
    " \n",
    "writeGif(\"images.gif\",images,duration=0.3,dither=0)"
   ]
  },
  {
   "cell_type": "code",
   "execution_count": null,
   "metadata": {},
   "outputs": [],
   "source": []
  }
 ],
 "metadata": {
  "kernelspec": {
   "display_name": "Python 3",
   "language": "python",
   "name": "python3"
  },
  "language_info": {
   "codemirror_mode": {
    "name": "ipython",
    "version": 3
   },
   "file_extension": ".py",
   "mimetype": "text/x-python",
   "name": "python",
   "nbconvert_exporter": "python",
   "pygments_lexer": "ipython3",
   "version": "3.6.5"
  }
 },
 "nbformat": 4,
 "nbformat_minor": 2
}
