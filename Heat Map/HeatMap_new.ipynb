{
 "cells": [
  {
   "cell_type": "code",
   "execution_count": 1,
   "metadata": {},
   "outputs": [],
   "source": [
    "import kwikfile as kf\n",
    "import numpy as np\n",
    "import imp\n",
    "%matplotlib inline\n",
    "import matplotlib.pyplot as plt\n",
    "from klusta.kwik import KwikModel\n",
    "import matplotlib as mpl\n",
    "from pylab import *\n",
    "\n",
    "import ipywidgets as widgets\n",
    "from IPython.display import display\n",
    "import time\n",
    "\n",
    "class HeatMap:\n",
    "    \n",
    "    def __init__(self,kpath=None,name=None):\n",
    "        if kpath is not None:\n",
    "            self.kwik_model=KwikModel(kpath)\n",
    "            self.kwikfile=kf.KwikFile(kpath)\n",
    "            self.kpath=kpath\n",
    "            self.name=self.kwikfile.name\n",
    "            #print(self.kwikfile.list_of_groups())\n",
    "    #média das amplitudes de cada site\n",
    "    def shank_amplitude (self,group_name=None):\n",
    "        \n",
    "        \n",
    "        if group_name is not None:\n",
    "            if group_name is \"mua\" or group_name is \"good\" or group_name is \"noise\" or group_name is 'unsorted':\n",
    "                f = widgets.IntProgress(min=0, max=len(self.kwikfile.clusters(group_name=group_name)))\n",
    "                display(f)\n",
    "                median_amplitude_group = np.zeros((10,32))\n",
    "                #median_amplitude_group=np.zeros((32,32)) #!!!!!\n",
    "                #print(group_name)\n",
    "                clusters = self.kwik_model.spike_clusters\n",
    "                for cluster_id in self.kwikfile.clusters(group_name=group_name):\n",
    "                    #print(cluster_id)\n",
    "                    \n",
    "                    idx=np.argwhere (clusters==cluster_id)\n",
    "                    w=self.kwik_model.all_waveforms[idx]\n",
    "                    num_channels = w.shape[2]\n",
    "                    #print(cluster_id)\n",
    "                    #median_amplitude_group=np.zeros((w.shape[2],w.shape[3]))\n",
    "                    #median_amplitude_group = np.mean(w[:,:,:],0)\n",
    "                    \n",
    "                    for ch in range (0,num_channels):\n",
    "                        #print(ch)\n",
    "                        #mu_spikes = np.mean(w[:,:,ch],0)\n",
    "                        median_amplitude_group[ch,:]+=np.mean(w[:,:,ch],0)\n",
    "                    f.value += 1\n",
    "                #print(w[:,:,:])\n",
    "                return median_amplitude_group\n",
    "            else:\n",
    "                print(\"Enter the group name valid!\")\n",
    "                return None\n",
    "          \n",
    "    #contorno\n",
    "    '''\n",
    "    def probe_geometry (self,num_channels=None):\n",
    "        if num_channels is not None:\n",
    "            eletrode_form = [11,6,1,0,0,0,1,6,11]\n",
    "            return eletrode_form\n",
    "        else:\n",
    "            raise NameError(\"Probe geometry invalid!\")\n",
    "    '''\n",
    "    #\n",
    "    def amplitudes_heat_map (self, median_amplitude_group=None):\n",
    "        fig,ax = plt.subplots(figsize=(6, 10))\n",
    "        \n",
    "        #print(median_amplitude_group)\n",
    "        max_amplitude=np.zeros((len(median_amplitude_group[:,0])))\n",
    "        #máximo de cada canal\n",
    "        for ch in range(0,len(median_amplitude_group[:,0])):\n",
    "            top=max(median_amplitude_group[ch,:])\n",
    "            low=min(median_amplitude_group[ch,:])\n",
    "            if top>abs(low):\n",
    "                max_amplitude[ch]=top\n",
    "            else:\n",
    "                max_amplitude[ch]=abs(low)\n",
    "        #\n",
    "        posx=np.flipud (self.kwik_model.channel_positions [:,0])\n",
    "        posy=np.flipud (self.kwik_model.channel_positions [:,1])\n",
    "        print(posx,posy)\n",
    "        #mapa de cores\n",
    "        cmap = mpl.cm.jet\n",
    "        norm = mpl.colors.Normalize(vmin=min(max_amplitude), vmax=max(max_amplitude))\n",
    "        cb1 = mpl.colorbar.ColorbarBase(ax, cmap=cmap,\n",
    "                                norm=norm,\n",
    "                                extend='both',\n",
    "                                extendfrac='auto',\n",
    "                                spacing='uniform',\n",
    "                                orientation='vertical')  \n",
    "        \n",
    "        #lista de posições dos círculos\n",
    "        a=list()\n",
    "        dx = 35\n",
    "        for ch in range (0,len(median_amplitude_group[:,0])):\n",
    "            if ch%2!=0:\n",
    "                x_offset = posx[ch]+dx\n",
    "            else:\n",
    "                x_offset = posx[ch]-dx\n",
    "            y_offset =posy[ch]*2\n",
    "            circle = plt.Circle((x_offset,y_offset),10,color=cb1.to_rgba(max_amplitude[ch]))\n",
    "            a.append(circle)\n",
    "            \n",
    "        #ax = plt.gca()\n",
    "        ax.cla()   \n",
    "        ax.set_xlim((min(posx)-dx-10, max(posx)+dx+10))\n",
    "        ax.set_ylim((min(posy)*2-10, max(posy)*2+10))\n",
    "        \n",
    "        for i in range(0,len(median_amplitude_group[:,0])):\n",
    "            c=a[i]\n",
    "            ax.add_artist(c)\n",
    "            \n",
    "        data = np.clip(randn(0, 0), -1, 1)\n",
    "        cax = ax.imshow(data, interpolation='None', cmap=cm.jet)\n",
    "        cbar = fig.colorbar(cax,ticks=[0,0.5,1],orientation='vertical')\n",
    "        cbar.ax.set_yticklabels(['Low','Medium','High'])\n",
    "        plt.axis('off')\n",
    "        \n",
    "        plt.show()"
   ]
  },
  {
   "cell_type": "code",
   "execution_count": 2,
   "metadata": {},
   "outputs": [
    {
     "data": {
      "application/vnd.jupyter.widget-view+json": {
       "model_id": "5898ff6e1bf94e4d86e4df608757319c",
       "version_major": 2,
       "version_minor": 0
      },
      "text/html": [
       "<p>Failed to display Jupyter Widget of type <code>Box</code>.</p>\n",
       "<p>\n",
       "  If you're reading this message in the Jupyter Notebook or JupyterLab Notebook, it may mean\n",
       "  that the widgets JavaScript is still loading. If this message persists, it\n",
       "  likely means that the widgets JavaScript library is either not installed or\n",
       "  not enabled. See the <a href=\"https://ipywidgets.readthedocs.io/en/stable/user_install.html\">Jupyter\n",
       "  Widgets Documentation</a> for setup instructions.\n",
       "</p>\n",
       "<p>\n",
       "  If you're reading this message in another frontend (for example, a static\n",
       "  rendering on GitHub or <a href=\"https://nbviewer.jupyter.org/\">NBViewer</a>),\n",
       "  it may mean that your frontend doesn't currently support widgets.\n",
       "</p>\n"
      ],
      "text/plain": [
       "Box(children=(Box(children=(Label(value='Path'), Text(value='/home/harison/UFPE/data/g01.kwik')), layout=Layout(display='flex', flex_flow='row', justify_content='center')), Box(children=(Label(value='Group name:'), Dropdown(options=('good', 'mua', 'noise'), value='good')), layout=Layout(display='flex', flex_flow='row', justify_content='center'))), layout=Layout(align_items='stretch', border='solid 2px', display='flex', flex_flow='column', width='50%'))"
      ]
     },
     "metadata": {},
     "output_type": "display_data"
    },
    {
     "data": {
      "application/vnd.jupyter.widget-view+json": {
       "model_id": "9b0a04c3915c446499d377b06f583f96",
       "version_major": 2,
       "version_minor": 0
      },
      "text/html": [
       "<p>Failed to display Jupyter Widget of type <code>Button</code>.</p>\n",
       "<p>\n",
       "  If you're reading this message in the Jupyter Notebook or JupyterLab Notebook, it may mean\n",
       "  that the widgets JavaScript is still loading. If this message persists, it\n",
       "  likely means that the widgets JavaScript library is either not installed or\n",
       "  not enabled. See the <a href=\"https://ipywidgets.readthedocs.io/en/stable/user_install.html\">Jupyter\n",
       "  Widgets Documentation</a> for setup instructions.\n",
       "</p>\n",
       "<p>\n",
       "  If you're reading this message in another frontend (for example, a static\n",
       "  rendering on GitHub or <a href=\"https://nbviewer.jupyter.org/\">NBViewer</a>),\n",
       "  it may mean that your frontend doesn't currently support widgets.\n",
       "</p>\n"
      ],
      "text/plain": [
       "Button(description='Enviar informações!', style=ButtonStyle())"
      ]
     },
     "metadata": {},
     "output_type": "display_data"
    }
   ],
   "source": [
    "from ipywidgets import Layout, Button, Box, FloatText, Textarea, Dropdown, Label, IntSlider, Text\n",
    "import ipywidgets as widgets\n",
    "\n",
    "form_item_layout = Layout(\n",
    "    display='flex',\n",
    "    flex_flow='row',\n",
    "    justify_content='center'\n",
    ")\n",
    "\n",
    "data = [\n",
    "    Box([Label(value='Path'),\n",
    "            Text(\"/home/harison/UFPE/data/g01.kwik\")\n",
    "            ], layout=form_item_layout),\n",
    "    Box([Label(value='Group name:'),\n",
    "         Dropdown(options=['good', 'mua', 'noise'])],layout=form_item_layout)\n",
    "    \n",
    "]\n",
    "\n",
    "form = Box(data, layout=Layout(\n",
    "    display='flex',\n",
    "    flex_flow='column',\n",
    "    border='solid 2px',\n",
    "    align_items='stretch',\n",
    "    width='50%'\n",
    "))\n",
    "display(form)\n",
    "\n",
    "button = widgets.Button(description=\"Enviar informações!\")\n",
    "display(button)\n",
    "\n",
    "def on_button_clicked(b):\n",
    "    #kpath=form_items[0].children[0].value\n",
    "    kpath=data[0].children[1].value\n",
    "    group_name=data[1].children[1].value\n",
    "    hm = HeatMap(kpath)\n",
    "    ampl=hm.shank_amplitude(group_name)\n",
    "    hm.amplitudes_heat_map(ampl)\n",
    "    #group_name=\n",
    "    #print(\"%s: %s\" %(children[0].description,children[0].value))\n",
    "    \n",
    "    \n",
    "button.on_click(on_button_clicked)"
   ]
  },
  {
   "cell_type": "code",
   "execution_count": 13,
   "metadata": {},
   "outputs": [
    {
     "data": {
      "application/vnd.jupyter.widget-view+json": {
       "model_id": "e953358150c04728a144954b371a5a8c",
       "version_major": 2,
       "version_minor": 0
      },
      "text/html": [
       "<p>Failed to display Jupyter Widget of type <code>IntProgress</code>.</p>\n",
       "<p>\n",
       "  If you're reading this message in the Jupyter Notebook or JupyterLab Notebook, it may mean\n",
       "  that the widgets JavaScript is still loading. If this message persists, it\n",
       "  likely means that the widgets JavaScript library is either not installed or\n",
       "  not enabled. See the <a href=\"https://ipywidgets.readthedocs.io/en/stable/user_install.html\">Jupyter\n",
       "  Widgets Documentation</a> for setup instructions.\n",
       "</p>\n",
       "<p>\n",
       "  If you're reading this message in another frontend (for example, a static\n",
       "  rendering on GitHub or <a href=\"https://nbviewer.jupyter.org/\">NBViewer</a>),\n",
       "  it may mean that your frontend doesn't currently support widgets.\n",
       "</p>\n"
      ],
      "text/plain": [
       "IntProgress(value=2, description='Loading:', max=10)"
      ]
     },
     "metadata": {},
     "output_type": "display_data"
    }
   ],
   "source": [
    "\n",
    "\n",
    "a=widgets.IntProgress(\n",
    "    value=2,\n",
    "    min=0,\n",
    "    max=10,\n",
    "    step=1,\n",
    "    description='Loading:',\n",
    "    bar_style='', # 'success', 'info', 'warning', 'danger' or ''\n",
    "    orientation='horizontal'\n",
    ")\n",
    "display(a)"
   ]
  },
  {
   "cell_type": "code",
   "execution_count": null,
   "metadata": {},
   "outputs": [],
   "source": [
    "import ipywidgets as widgets\n",
    "from IPython.display import display\t\n",
    "import time\n",
    "\n",
    "int i\n",
    "w=widgets.FloatProgress(\n",
    "    value=1.0,\n",
    "    min=0,\n",
    "    max=10.0,\n",
    "    step=0.1,\n",
    "    description='Loading:',\n",
    "    orientation='horizontal'\n",
    ")\n",
    "\n",
    "display(w)\n",
    "\n",
    "#while True:\n",
    "while True:\n",
    "    \n",
    "    w.value = 1\n"
   ]
  },
  {
   "cell_type": "code",
   "execution_count": 36,
   "metadata": {},
   "outputs": [
    {
     "data": {
      "application/vnd.jupyter.widget-view+json": {
       "model_id": "a4b0504b1a2a4f5ca282c28fa2280476",
       "version_major": 2,
       "version_minor": 0
      },
      "text/html": [
       "<p>Failed to display Jupyter Widget of type <code>IntProgress</code>.</p>\n",
       "<p>\n",
       "  If you're reading this message in the Jupyter Notebook or JupyterLab Notebook, it may mean\n",
       "  that the widgets JavaScript is still loading. If this message persists, it\n",
       "  likely means that the widgets JavaScript library is either not installed or\n",
       "  not enabled. See the <a href=\"https://ipywidgets.readthedocs.io/en/stable/user_install.html\">Jupyter\n",
       "  Widgets Documentation</a> for setup instructions.\n",
       "</p>\n",
       "<p>\n",
       "  If you're reading this message in another frontend (for example, a static\n",
       "  rendering on GitHub or <a href=\"https://nbviewer.jupyter.org/\">NBViewer</a>),\n",
       "  it may mean that your frontend doesn't currently support widgets.\n",
       "</p>\n"
      ],
      "text/plain": [
       "IntProgress(value=0)"
      ]
     },
     "metadata": {},
     "output_type": "display_data"
    }
   ],
   "source": [
    "import ipywidgets as widgets\n",
    "from IPython.display import display\t\n",
    "import time\n",
    "\n",
    "f = widgets.IntProgress(min=0, max=100)\n",
    "display(f)\n",
    "for i in range(0,100):\n",
    "    f.value += 1"
   ]
  },
  {
   "cell_type": "code",
   "execution_count": null,
   "metadata": {},
   "outputs": [],
   "source": []
  }
 ],
 "metadata": {
  "kernelspec": {
   "display_name": "Python 3",
   "language": "python",
   "name": "python3"
  },
  "language_info": {
   "codemirror_mode": {
    "name": "ipython",
    "version": 3
   },
   "file_extension": ".py",
   "mimetype": "text/x-python",
   "name": "python",
   "nbconvert_exporter": "python",
   "pygments_lexer": "ipython3",
   "version": "3.5.4"
  }
 },
 "nbformat": 4,
 "nbformat_minor": 2
}
