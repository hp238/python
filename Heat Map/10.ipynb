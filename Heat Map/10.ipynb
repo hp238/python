{
 "cells": [
  {
   "cell_type": "code",
   "execution_count": 97,
   "metadata": {},
   "outputs": [],
   "source": [
    "import kwikfile as kf\n",
    "import numpy as np\n",
    "import imp\n",
    "%matplotlib inline\n",
    "import matplotlib.pyplot as plt\n",
    "from klusta.kwik import KwikModel\n",
    "import matplotlib as mpl\n",
    "from pylab import *\n",
    "import random\n",
    "\n",
    "def amplitudes_heat_map ():\n",
    "        fig,ax = plt.subplots(figsize=(6, 10))\n",
    "\n",
    "        #fig=plt.figure(num=None, figsize=(6, 12), dpi=200, facecolor='w', edgecolor='k')\n",
    "        \n",
    "        kwik_model=KwikModel(kpath)\n",
    "        kwikfile=kf.KwikFile(kpath)\n",
    "        \n",
    "        #max_amplitude=np.zeros((len(median_amplitude_group[:,0])))\n",
    "        #máximo de cada canal\n",
    "        #for ch in range(0,len(median_amplitude_group[:,0])):\n",
    "         #   top=max(median_amplitude_group[ch,:])\n",
    "          #  low=min(median_amplitude_group[ch,:])\n",
    "           # if top>abs(low):\n",
    "            #    max_amplitude[ch]=top\n",
    "            #else:\n",
    "             #   max_amplitude[ch]=abs(low)\n",
    "        #\n",
    "        posx=np.flipud (kwik_model.channel_positions [:,0])\n",
    "        posy=np.flipud (kwik_model.channel_positions [:,1])\n",
    "        #print(posx,posy)\n",
    "        #mapa de cores\n",
    "        cmap = mpl.cm.jet\n",
    "        norm = mpl.colors.Normalize(vmin=0, vmax=100)\n",
    "        cb1 = mpl.colorbar.ColorbarBase(ax, cmap=cmap,\n",
    "                                norm=norm,\n",
    "                                extend='both',\n",
    "                                extendfrac='auto',\n",
    "                                spacing='uniform',\n",
    "                                orientation='vertical')  \n",
    "        \n",
    "        #lista de posições dos círculos\n",
    "        a=list()\n",
    "        dx=35\n",
    "        for ch in range (0,len(posx)):\n",
    "            if ch%2!=0:\n",
    "                x_offset = posx[ch]+dx\n",
    "            else:\n",
    "                x_offset = posx[ch]-dx\n",
    "            #x_offset = posx[ch]\n",
    "            y_offset =posy[ch]*2\n",
    "            circle = plt.Circle((x_offset,y_offset),10,color=cb1.to_rgba(random.randint(0,100)))\n",
    "            a.append(circle)\n",
    "            \n",
    "        #ax = plt.gca()\n",
    "        ax.cla()   \n",
    "        ax.set_xlim((min(posx)-dx-10, max(posx)+dx+10))\n",
    "        ax.set_ylim((min(posy)*2-10, max(posy)*2+10))\n",
    "        \n",
    "        for i in range(0,len(posx)):\n",
    "            c=a[i]\n",
    "            ax.add_artist(c)\n",
    "            \n",
    "        data = np.clip(randn(0, 0), -1, 1)\n",
    "        cax = ax.imshow(data, interpolation='None', cmap=cm.jet)\n",
    "        cbar = fig.colorbar(cax,ticks=[0,0.5,1],orientation='vertical')\n",
    "        cbar.ax.set_yticklabels(['Low','Medium','High'])\n",
    "        plt.axis('off')\n",
    "        \n",
    "        plt.show()"
   ]
  },
  {
   "cell_type": "code",
   "execution_count": 98,
   "metadata": {},
   "outputs": [],
   "source": [
    "kpath='/home/harison/UFPE/data/phy-data-master/kwik/hybrid_10sec.kwik'"
   ]
  },
  {
   "cell_type": "code",
   "execution_count": 99,
   "metadata": {
    "scrolled": false
   },
   "outputs": [
    {
     "name": "stdout",
     "output_type": "stream",
     "text": [
      "Created class on = /home/harison/UFPE/data/phy-data-master/kwik/hybrid_10sec.kwik !\n"
     ]
    },
    {
     "data": {
      "image/png": "[encoded data removed]",
      "text/plain": [
       "<matplotlib.figure.Figure at 0x7f9fed72b860>"
      ]
     },
     "metadata": {},
     "output_type": "display_data"
    }
   ],
   "source": [
    "amplitudes_heat_map()"
   ]
  },
  {
   "cell_type": "code",
   "execution_count": null,
   "metadata": {},
   "outputs": [],
   "source": []
  }
 ],
 "metadata": {
  "kernelspec": {
   "display_name": "Python 3",
   "language": "python",
   "name": "python3"
  },
  "language_info": {
   "codemirror_mode": {
    "name": "ipython",
    "version": 3
   },
   "file_extension": ".py",
   "mimetype": "text/x-python",
   "name": "python",
   "nbconvert_exporter": "python",
   "pygments_lexer": "ipython3",
   "version": "3.5.4"
  }
 },
 "nbformat": 4,
 "nbformat_minor": 2
}
